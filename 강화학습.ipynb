{
  "nbformat": 4,
  "nbformat_minor": 0,
  "metadata": {
    "colab": {
      "provenance": [],
      "authorship_tag": "ABX9TyNOjKSuLay3leBcj1GsJl+1",
      "include_colab_link": true
    },
    "kernelspec": {
      "name": "python3",
      "display_name": "Python 3"
    },
    "language_info": {
      "name": "python"
    }
  },
  "cells": [
    {
      "cell_type": "markdown",
      "metadata": {
        "id": "view-in-github",
        "colab_type": "text"
      },
      "source": [
        "<a href=\"https://colab.research.google.com/github/ssooniunnie/reinforcement_scheduling/blob/main/%EA%B0%95%ED%99%94%ED%95%99%EC%8A%B5.ipynb\" target=\"_parent\"><img src=\"https://colab.research.google.com/assets/colab-badge.svg\" alt=\"Open In Colab\"/></a>"
      ]
    },
    {
      "cell_type": "code",
      "execution_count": 1,
      "metadata": {
        "colab": {
          "base_uri": "https://localhost:8080/"
        },
        "id": "PQjfG_rBd2p_",
        "outputId": "94e997e5-05b3-4893-e6db-fe24be7ed41e"
      },
      "outputs": [
        {
          "output_type": "stream",
          "name": "stdout",
          "text": [
            "Drive already mounted at /content/drive; to attempt to forcibly remount, call drive.mount(\"/content/drive\", force_remount=True).\n"
          ]
        }
      ],
      "source": [
        "from google.colab import drive\n",
        "drive.mount('/content/drive')"
      ]
    },
    {
      "cell_type": "code",
      "source": [
        "!pip install tensorflow==2.3.0\n",
        "!pip install gym\n",
        "!pip install keras\n",
        "!pip install keras-rl2"
      ],
      "metadata": {
        "colab": {
          "base_uri": "https://localhost:8080/"
        },
        "id": "EUmzCFoD_cco",
        "outputId": "2150c352-f3f7-4ddc-d180-3e76b64f8e3c"
      },
      "execution_count": 2,
      "outputs": [
        {
          "output_type": "stream",
          "name": "stdout",
          "text": [
            "Looking in indexes: https://pypi.org/simple, https://us-python.pkg.dev/colab-wheels/public/simple/\n",
            "Requirement already satisfied: tensorflow==2.3.0 in /usr/local/lib/python3.8/dist-packages (2.3.0)\n",
            "Requirement already satisfied: six>=1.12.0 in /usr/local/lib/python3.8/dist-packages (from tensorflow==2.3.0) (1.15.0)\n",
            "Requirement already satisfied: opt-einsum>=2.3.2 in /usr/local/lib/python3.8/dist-packages (from tensorflow==2.3.0) (3.3.0)\n",
            "Requirement already satisfied: wheel>=0.26 in /usr/local/lib/python3.8/dist-packages (from tensorflow==2.3.0) (0.38.4)\n",
            "Requirement already satisfied: astunparse==1.6.3 in /usr/local/lib/python3.8/dist-packages (from tensorflow==2.3.0) (1.6.3)\n",
            "Requirement already satisfied: h5py<2.11.0,>=2.10.0 in /usr/local/lib/python3.8/dist-packages (from tensorflow==2.3.0) (2.10.0)\n",
            "Requirement already satisfied: keras-preprocessing<1.2,>=1.1.1 in /usr/local/lib/python3.8/dist-packages (from tensorflow==2.3.0) (1.1.2)\n",
            "Requirement already satisfied: wrapt>=1.11.1 in /usr/local/lib/python3.8/dist-packages (from tensorflow==2.3.0) (1.14.1)\n",
            "Requirement already satisfied: absl-py>=0.7.0 in /usr/local/lib/python3.8/dist-packages (from tensorflow==2.3.0) (1.3.0)\n",
            "Requirement already satisfied: google-pasta>=0.1.8 in /usr/local/lib/python3.8/dist-packages (from tensorflow==2.3.0) (0.2.0)\n",
            "Requirement already satisfied: grpcio>=1.8.6 in /usr/local/lib/python3.8/dist-packages (from tensorflow==2.3.0) (1.51.1)\n",
            "Requirement already satisfied: tensorboard<3,>=2.3.0 in /usr/local/lib/python3.8/dist-packages (from tensorflow==2.3.0) (2.9.1)\n",
            "Requirement already satisfied: gast==0.3.3 in /usr/local/lib/python3.8/dist-packages (from tensorflow==2.3.0) (0.3.3)\n",
            "Requirement already satisfied: numpy<1.19.0,>=1.16.0 in /usr/local/lib/python3.8/dist-packages (from tensorflow==2.3.0) (1.18.5)\n",
            "Requirement already satisfied: protobuf>=3.9.2 in /usr/local/lib/python3.8/dist-packages (from tensorflow==2.3.0) (3.19.6)\n",
            "Requirement already satisfied: tensorflow-estimator<2.4.0,>=2.3.0 in /usr/local/lib/python3.8/dist-packages (from tensorflow==2.3.0) (2.3.0)\n",
            "Requirement already satisfied: scipy==1.4.1 in /usr/local/lib/python3.8/dist-packages (from tensorflow==2.3.0) (1.4.1)\n",
            "Requirement already satisfied: termcolor>=1.1.0 in /usr/local/lib/python3.8/dist-packages (from tensorflow==2.3.0) (2.1.1)\n",
            "Requirement already satisfied: tensorboard-data-server<0.7.0,>=0.6.0 in /usr/local/lib/python3.8/dist-packages (from tensorboard<3,>=2.3.0->tensorflow==2.3.0) (0.6.1)\n",
            "Requirement already satisfied: google-auth<3,>=1.6.3 in /usr/local/lib/python3.8/dist-packages (from tensorboard<3,>=2.3.0->tensorflow==2.3.0) (2.15.0)\n",
            "Requirement already satisfied: setuptools>=41.0.0 in /usr/local/lib/python3.8/dist-packages (from tensorboard<3,>=2.3.0->tensorflow==2.3.0) (57.4.0)\n",
            "Requirement already satisfied: tensorboard-plugin-wit>=1.6.0 in /usr/local/lib/python3.8/dist-packages (from tensorboard<3,>=2.3.0->tensorflow==2.3.0) (1.8.1)\n",
            "Requirement already satisfied: google-auth-oauthlib<0.5,>=0.4.1 in /usr/local/lib/python3.8/dist-packages (from tensorboard<3,>=2.3.0->tensorflow==2.3.0) (0.4.6)\n",
            "Requirement already satisfied: requests<3,>=2.21.0 in /usr/local/lib/python3.8/dist-packages (from tensorboard<3,>=2.3.0->tensorflow==2.3.0) (2.23.0)\n",
            "Requirement already satisfied: werkzeug>=1.0.1 in /usr/local/lib/python3.8/dist-packages (from tensorboard<3,>=2.3.0->tensorflow==2.3.0) (1.0.1)\n",
            "Requirement already satisfied: markdown>=2.6.8 in /usr/local/lib/python3.8/dist-packages (from tensorboard<3,>=2.3.0->tensorflow==2.3.0) (3.4.1)\n",
            "Requirement already satisfied: cachetools<6.0,>=2.0.0 in /usr/local/lib/python3.8/dist-packages (from google-auth<3,>=1.6.3->tensorboard<3,>=2.3.0->tensorflow==2.3.0) (5.2.0)\n",
            "Requirement already satisfied: pyasn1-modules>=0.2.1 in /usr/local/lib/python3.8/dist-packages (from google-auth<3,>=1.6.3->tensorboard<3,>=2.3.0->tensorflow==2.3.0) (0.2.8)\n",
            "Requirement already satisfied: rsa<5,>=3.1.4 in /usr/local/lib/python3.8/dist-packages (from google-auth<3,>=1.6.3->tensorboard<3,>=2.3.0->tensorflow==2.3.0) (4.9)\n",
            "Requirement already satisfied: requests-oauthlib>=0.7.0 in /usr/local/lib/python3.8/dist-packages (from google-auth-oauthlib<0.5,>=0.4.1->tensorboard<3,>=2.3.0->tensorflow==2.3.0) (1.3.1)\n",
            "Requirement already satisfied: importlib-metadata>=4.4 in /usr/local/lib/python3.8/dist-packages (from markdown>=2.6.8->tensorboard<3,>=2.3.0->tensorflow==2.3.0) (4.13.0)\n",
            "Requirement already satisfied: zipp>=0.5 in /usr/local/lib/python3.8/dist-packages (from importlib-metadata>=4.4->markdown>=2.6.8->tensorboard<3,>=2.3.0->tensorflow==2.3.0) (3.11.0)\n",
            "Requirement already satisfied: pyasn1<0.5.0,>=0.4.6 in /usr/local/lib/python3.8/dist-packages (from pyasn1-modules>=0.2.1->google-auth<3,>=1.6.3->tensorboard<3,>=2.3.0->tensorflow==2.3.0) (0.4.8)\n",
            "Requirement already satisfied: certifi>=2017.4.17 in /usr/local/lib/python3.8/dist-packages (from requests<3,>=2.21.0->tensorboard<3,>=2.3.0->tensorflow==2.3.0) (2022.9.24)\n",
            "Requirement already satisfied: idna<3,>=2.5 in /usr/local/lib/python3.8/dist-packages (from requests<3,>=2.21.0->tensorboard<3,>=2.3.0->tensorflow==2.3.0) (2.10)\n",
            "Requirement already satisfied: urllib3!=1.25.0,!=1.25.1,<1.26,>=1.21.1 in /usr/local/lib/python3.8/dist-packages (from requests<3,>=2.21.0->tensorboard<3,>=2.3.0->tensorflow==2.3.0) (1.24.3)\n",
            "Requirement already satisfied: chardet<4,>=3.0.2 in /usr/local/lib/python3.8/dist-packages (from requests<3,>=2.21.0->tensorboard<3,>=2.3.0->tensorflow==2.3.0) (3.0.4)\n",
            "Requirement already satisfied: oauthlib>=3.0.0 in /usr/local/lib/python3.8/dist-packages (from requests-oauthlib>=0.7.0->google-auth-oauthlib<0.5,>=0.4.1->tensorboard<3,>=2.3.0->tensorflow==2.3.0) (3.2.2)\n",
            "Looking in indexes: https://pypi.org/simple, https://us-python.pkg.dev/colab-wheels/public/simple/\n",
            "Requirement already satisfied: gym in /usr/local/lib/python3.8/dist-packages (0.25.2)\n",
            "Requirement already satisfied: numpy>=1.18.0 in /usr/local/lib/python3.8/dist-packages (from gym) (1.18.5)\n",
            "Requirement already satisfied: importlib-metadata>=4.8.0 in /usr/local/lib/python3.8/dist-packages (from gym) (4.13.0)\n",
            "Requirement already satisfied: cloudpickle>=1.2.0 in /usr/local/lib/python3.8/dist-packages (from gym) (1.5.0)\n",
            "Requirement already satisfied: gym-notices>=0.0.4 in /usr/local/lib/python3.8/dist-packages (from gym) (0.0.8)\n",
            "Requirement already satisfied: zipp>=0.5 in /usr/local/lib/python3.8/dist-packages (from importlib-metadata>=4.8.0->gym) (3.11.0)\n",
            "Looking in indexes: https://pypi.org/simple, https://us-python.pkg.dev/colab-wheels/public/simple/\n",
            "Requirement already satisfied: keras in /usr/local/lib/python3.8/dist-packages (2.9.0)\n",
            "Looking in indexes: https://pypi.org/simple, https://us-python.pkg.dev/colab-wheels/public/simple/\n",
            "Requirement already satisfied: keras-rl2 in /usr/local/lib/python3.8/dist-packages (1.0.5)\n",
            "Requirement already satisfied: tensorflow in /usr/local/lib/python3.8/dist-packages (from keras-rl2) (2.3.0)\n",
            "Requirement already satisfied: termcolor>=1.1.0 in /usr/local/lib/python3.8/dist-packages (from tensorflow->keras-rl2) (2.1.1)\n",
            "Requirement already satisfied: gast==0.3.3 in /usr/local/lib/python3.8/dist-packages (from tensorflow->keras-rl2) (0.3.3)\n",
            "Requirement already satisfied: wrapt>=1.11.1 in /usr/local/lib/python3.8/dist-packages (from tensorflow->keras-rl2) (1.14.1)\n",
            "Requirement already satisfied: tensorboard<3,>=2.3.0 in /usr/local/lib/python3.8/dist-packages (from tensorflow->keras-rl2) (2.9.1)\n",
            "Requirement already satisfied: wheel>=0.26 in /usr/local/lib/python3.8/dist-packages (from tensorflow->keras-rl2) (0.38.4)\n",
            "Requirement already satisfied: six>=1.12.0 in /usr/local/lib/python3.8/dist-packages (from tensorflow->keras-rl2) (1.15.0)\n",
            "Requirement already satisfied: h5py<2.11.0,>=2.10.0 in /usr/local/lib/python3.8/dist-packages (from tensorflow->keras-rl2) (2.10.0)\n",
            "Requirement already satisfied: scipy==1.4.1 in /usr/local/lib/python3.8/dist-packages (from tensorflow->keras-rl2) (1.4.1)\n",
            "Requirement already satisfied: keras-preprocessing<1.2,>=1.1.1 in /usr/local/lib/python3.8/dist-packages (from tensorflow->keras-rl2) (1.1.2)\n",
            "Requirement already satisfied: astunparse==1.6.3 in /usr/local/lib/python3.8/dist-packages (from tensorflow->keras-rl2) (1.6.3)\n",
            "Requirement already satisfied: absl-py>=0.7.0 in /usr/local/lib/python3.8/dist-packages (from tensorflow->keras-rl2) (1.3.0)\n",
            "Requirement already satisfied: opt-einsum>=2.3.2 in /usr/local/lib/python3.8/dist-packages (from tensorflow->keras-rl2) (3.3.0)\n",
            "Requirement already satisfied: tensorflow-estimator<2.4.0,>=2.3.0 in /usr/local/lib/python3.8/dist-packages (from tensorflow->keras-rl2) (2.3.0)\n",
            "Requirement already satisfied: grpcio>=1.8.6 in /usr/local/lib/python3.8/dist-packages (from tensorflow->keras-rl2) (1.51.1)\n",
            "Requirement already satisfied: google-pasta>=0.1.8 in /usr/local/lib/python3.8/dist-packages (from tensorflow->keras-rl2) (0.2.0)\n",
            "Requirement already satisfied: numpy<1.19.0,>=1.16.0 in /usr/local/lib/python3.8/dist-packages (from tensorflow->keras-rl2) (1.18.5)\n",
            "Requirement already satisfied: protobuf>=3.9.2 in /usr/local/lib/python3.8/dist-packages (from tensorflow->keras-rl2) (3.19.6)\n",
            "Requirement already satisfied: tensorboard-plugin-wit>=1.6.0 in /usr/local/lib/python3.8/dist-packages (from tensorboard<3,>=2.3.0->tensorflow->keras-rl2) (1.8.1)\n",
            "Requirement already satisfied: werkzeug>=1.0.1 in /usr/local/lib/python3.8/dist-packages (from tensorboard<3,>=2.3.0->tensorflow->keras-rl2) (1.0.1)\n",
            "Requirement already satisfied: google-auth<3,>=1.6.3 in /usr/local/lib/python3.8/dist-packages (from tensorboard<3,>=2.3.0->tensorflow->keras-rl2) (2.15.0)\n",
            "Requirement already satisfied: markdown>=2.6.8 in /usr/local/lib/python3.8/dist-packages (from tensorboard<3,>=2.3.0->tensorflow->keras-rl2) (3.4.1)\n",
            "Requirement already satisfied: requests<3,>=2.21.0 in /usr/local/lib/python3.8/dist-packages (from tensorboard<3,>=2.3.0->tensorflow->keras-rl2) (2.23.0)\n",
            "Requirement already satisfied: tensorboard-data-server<0.7.0,>=0.6.0 in /usr/local/lib/python3.8/dist-packages (from tensorboard<3,>=2.3.0->tensorflow->keras-rl2) (0.6.1)\n",
            "Requirement already satisfied: setuptools>=41.0.0 in /usr/local/lib/python3.8/dist-packages (from tensorboard<3,>=2.3.0->tensorflow->keras-rl2) (57.4.0)\n",
            "Requirement already satisfied: google-auth-oauthlib<0.5,>=0.4.1 in /usr/local/lib/python3.8/dist-packages (from tensorboard<3,>=2.3.0->tensorflow->keras-rl2) (0.4.6)\n",
            "Requirement already satisfied: rsa<5,>=3.1.4 in /usr/local/lib/python3.8/dist-packages (from google-auth<3,>=1.6.3->tensorboard<3,>=2.3.0->tensorflow->keras-rl2) (4.9)\n",
            "Requirement already satisfied: pyasn1-modules>=0.2.1 in /usr/local/lib/python3.8/dist-packages (from google-auth<3,>=1.6.3->tensorboard<3,>=2.3.0->tensorflow->keras-rl2) (0.2.8)\n",
            "Requirement already satisfied: cachetools<6.0,>=2.0.0 in /usr/local/lib/python3.8/dist-packages (from google-auth<3,>=1.6.3->tensorboard<3,>=2.3.0->tensorflow->keras-rl2) (5.2.0)\n",
            "Requirement already satisfied: requests-oauthlib>=0.7.0 in /usr/local/lib/python3.8/dist-packages (from google-auth-oauthlib<0.5,>=0.4.1->tensorboard<3,>=2.3.0->tensorflow->keras-rl2) (1.3.1)\n",
            "Requirement already satisfied: importlib-metadata>=4.4 in /usr/local/lib/python3.8/dist-packages (from markdown>=2.6.8->tensorboard<3,>=2.3.0->tensorflow->keras-rl2) (4.13.0)\n",
            "Requirement already satisfied: zipp>=0.5 in /usr/local/lib/python3.8/dist-packages (from importlib-metadata>=4.4->markdown>=2.6.8->tensorboard<3,>=2.3.0->tensorflow->keras-rl2) (3.11.0)\n",
            "Requirement already satisfied: pyasn1<0.5.0,>=0.4.6 in /usr/local/lib/python3.8/dist-packages (from pyasn1-modules>=0.2.1->google-auth<3,>=1.6.3->tensorboard<3,>=2.3.0->tensorflow->keras-rl2) (0.4.8)\n",
            "Requirement already satisfied: certifi>=2017.4.17 in /usr/local/lib/python3.8/dist-packages (from requests<3,>=2.21.0->tensorboard<3,>=2.3.0->tensorflow->keras-rl2) (2022.9.24)\n",
            "Requirement already satisfied: chardet<4,>=3.0.2 in /usr/local/lib/python3.8/dist-packages (from requests<3,>=2.21.0->tensorboard<3,>=2.3.0->tensorflow->keras-rl2) (3.0.4)\n",
            "Requirement already satisfied: idna<3,>=2.5 in /usr/local/lib/python3.8/dist-packages (from requests<3,>=2.21.0->tensorboard<3,>=2.3.0->tensorflow->keras-rl2) (2.10)\n",
            "Requirement already satisfied: urllib3!=1.25.0,!=1.25.1,<1.26,>=1.21.1 in /usr/local/lib/python3.8/dist-packages (from requests<3,>=2.21.0->tensorboard<3,>=2.3.0->tensorflow->keras-rl2) (1.24.3)\n",
            "Requirement already satisfied: oauthlib>=3.0.0 in /usr/local/lib/python3.8/dist-packages (from requests-oauthlib>=0.7.0->google-auth-oauthlib<0.5,>=0.4.1->tensorboard<3,>=2.3.0->tensorflow->keras-rl2) (3.2.2)\n"
          ]
        }
      ]
    },
    {
      "cell_type": "code",
      "source": [
        "import pandas as pd\n",
        "\n",
        "import random\n",
        "import numpy as np\n",
        "\n",
        "\n",
        "from gym import Env\n",
        "from gym.spaces import Discrete, Box\n",
        "\n",
        "import ast\n",
        "\n",
        "from gym.vector.utils import spaces\n"
      ],
      "metadata": {
        "id": "Uy-TOuXNe1N-"
      },
      "execution_count": 3,
      "outputs": []
    },
    {
      "cell_type": "code",
      "source": [
        "df = pd.read_csv('/content/drive/MyDrive/Colab/강화학습/data.csv')"
      ],
      "metadata": {
        "id": "hxvnDTzAebEL"
      },
      "execution_count": 4,
      "outputs": []
    },
    {
      "cell_type": "code",
      "source": [
        "MINIMUM_DAY_OFFS = 9\n",
        "\n",
        "\n",
        "class Pilot:\n",
        "    def __init__(self, pilot_id):\n",
        "        self.result = 0\n",
        "        self.plans = []\n",
        "        self.schedule_map = [0] * 30\n",
        "        self.pilot_id = pilot_id\n",
        "  \n",
        "\n",
        "    def get_pilot_id(self):\n",
        "        return self.pilot_id\n",
        "\n",
        "    def get_plans(self):\n",
        "        return self.plans\n",
        "\n",
        "    def get_schedule_map(self):\n",
        "        return self.schedule_map\n",
        "\n",
        "    def apply_plan(self, plan):\n",
        "        if self.is_applicable(plan):\n",
        "            self.plans.append(plan)\n",
        "            self.update_schedule_map(plan)\n",
        "        else:\n",
        "            return False\n",
        "        return True\n",
        "\n",
        "    def is_applicable(self, plan):\n",
        "        # 정책 체크\n",
        "        # 1. 2가 생기면 안됨\n",
        "        if self.is_overlapping(plan):\n",
        "            return False\n",
        "        # 2. 7일에 한번 0이 있어야 한다.\n",
        "        if self.is_overwork_in_week(plan):\n",
        "            return False\n",
        "\n",
        "        # 3. 한 달에 9번 쉬어야 한다.\n",
        "        if self.is_overwork_in_month(plan):\n",
        "            return False\n",
        "\n",
        "        # 모든정첵 통과\n",
        "        return True\n",
        "\n",
        "    def is_overlapping(self, plan):\n",
        "        days_encoding = plan.get_days_encoding()\n",
        "        for index in range(0, len(days_encoding)):\n",
        "            if (days_encoding[index] + self.schedule_map[index]) > 1:\n",
        "                return True\n",
        "        return False\n",
        "\n",
        "    def is_overwork_in_week(self, plan):\n",
        "        start_day_in_window = 0\n",
        "        while (start_day_in_window + 6) <= (len(self.schedule_map) - 1):\n",
        "            total_working_days = 0\n",
        "            for offset in range(0, 7):\n",
        "                current_cursor = start_day_in_window + offset\n",
        "                total_working_days += (self.schedule_map[current_cursor] + plan.get_days_encoding()[current_cursor])\n",
        "            if total_working_days > 6:\n",
        "                return True\n",
        "            start_day_in_window += 1\n",
        "        return False\n",
        "\n",
        "    def is_overwork_in_month(self, plan):\n",
        "        total_working_days_in_month = 0\n",
        "        for i in range(0, len(self.schedule_map)):\n",
        "            total_working_days_in_month += (self.schedule_map[i] + plan.get_days_encoding()[i])\n",
        "\n",
        "        num_day_offs = len(self.schedule_map) - total_working_days_in_month\n",
        "        if num_day_offs < MINIMUM_DAY_OFFS:\n",
        "            return True\n",
        "        return False\n",
        "\n",
        "    def update_schedule_map(self, plan):\n",
        "        for i in range(0, len(self.schedule_map)):\n",
        "            self.schedule_map[i] += plan.get_days_encoding()[i]\n",
        "\n",
        "    def print_schedule_map(self):\n",
        "        print(\"current scheduel map : \", self.schedule_map)\n",
        "\n",
        "    def print_plan_list(self):\n",
        "        print(\"current plan list : \")\n",
        "        for plan in self.plans:\n",
        "            print(\"    plan id : \", plan.get_plan_id())\n",
        "            print(\"    plan days_encoding : \", plan.get_days_encoding())"
      ],
      "metadata": {
        "id": "dX4x8N47ezsB"
      },
      "execution_count": 5,
      "outputs": []
    },
    {
      "cell_type": "code",
      "source": [
        "import random\n",
        "\n",
        "\n",
        "class Scheduler:\n",
        "    def __init__(self, pilots, plans):\n",
        "        self.pilots = pilots\n",
        "        self.plans = plans\n",
        "        self.num_plans = len(self.plans)\n",
        "        self.num_pilots = len(self.pilots)\n",
        "        self.next_plan = self.get_next_random_plan()\n",
        "\n",
        "    def get_next_plan(self):\n",
        "        return self.next_plan\n",
        "\n",
        "    def get_pilots(self):\n",
        "        return self.pilots\n",
        "\n",
        "    def do_next_deploy(self, pilot_id):\n",
        "        pilot = self.pilots[pilot_id]\n",
        "        result = pilot.apply_plan(self.next_plan)\n",
        "        if not result:\n",
        "            return\n",
        "        self.next_plan = self.get_next_random_plan()\n",
        "        return True\n",
        "\n",
        "    def do_schedule(self):\n",
        "        next_plan = self.get_next_random_plan()\n",
        "        while next_plan is not None:\n",
        "            #########\n",
        "            pilot = self.get_next_random_pilot()\n",
        "            result = pilot.apply_plan(next_plan)\n",
        "            if not result:\n",
        "                return False\n",
        "            #########\n",
        "            next_plan = self.get_next_random_plan()\n",
        "        return True\n",
        "\n",
        "    def get_next_random_pilot(self):\n",
        "        pilot_index = random.randint(0, self.num_pilots - 1)\n",
        "        return self.pilots[pilot_index]\n",
        "\n",
        "    def get_next_random_plan(self):\n",
        "        retry_count = 0\n",
        "        while retry_count < self.num_plans:\n",
        "            candidate_index = random.randint(0, self.num_plans - 1)\n",
        "            # candidate_index 검증\n",
        "            if self.validate_candidate(candidate_index):\n",
        "                self.plans[candidate_index].set_is_applied(True)\n",
        "                return self.plans[candidate_index]\n",
        "            retry_count += 1\n",
        "        return None\n",
        "\n",
        "    def validate_candidate(self, candidate_index):\n",
        "        retrieved_plan = self.plans[candidate_index]\n",
        "        if retrieved_plan.get_is_applied():\n",
        "            return False\n",
        "        return True\n",
        "\n",
        "    def print_all_plans_info(self):\n",
        "        pass\n",
        "\n",
        "    def print_all_pilots_info(self):\n",
        "        for pilot in self.pilots:\n",
        "            pilot_id = pilot.get_pilot_id()\n",
        "            plans = pilot.get_plans()\n",
        "            print(\"pilot id : \", pilot_id)\n",
        "            for plan in plans:\n",
        "                print(\"    plan id : \", plan.get_plan_id())\n",
        "                print(\"    plan encoding : \", plan.get_days_encoding())\n"
      ],
      "metadata": {
        "id": "7lW59DzEfNjG"
      },
      "execution_count": 6,
      "outputs": []
    },
    {
      "cell_type": "code",
      "source": [
        "class Plan:\n",
        "    def __init__(self, plan_id, days_encoding, reward):\n",
        "        self.plan_id = plan_id\n",
        "        self.days_encoding = days_encoding\n",
        "        self.is_applied = False\n",
        "        self.reward = reward\n",
        "\n",
        "    def get_plan_id(self):\n",
        "        return self.plan_id\n",
        "\n",
        "    def get_days_encoding(self):\n",
        "        return self.days_encoding\n",
        "\n",
        "    def get_is_applied(self):\n",
        "        return self.is_applied\n",
        "\n",
        "    def set_is_applied(self, is_applied):\n",
        "        self.is_applied = is_applied\n"
      ],
      "metadata": {
        "id": "y9-F80kAfQxj"
      },
      "execution_count": 7,
      "outputs": []
    },
    {
      "cell_type": "code",
      "source": [
        "def create_new_scheduler():\n",
        "    # 파일에서 데이터 읽어오기\n",
        "    df = pd.read_csv('/content/drive/MyDrive/Colab/강화학습/data.csv')\n",
        "    # 읽은 파일로 Pilot 리스랑 Plan 트리스트 만들기\n",
        "    pilot_list = []\n",
        "    for i in range(0, 20):\n",
        "        pilot_list.append(Pilot(i))\n",
        "\n",
        "    plan_list = []\n",
        "\n",
        "    plan_id = df.loc[0, 'id']\n",
        "    days_encoding = ast.literal_eval(df.loc[0, 'BLK'])\n",
        "    reward = df.loc[0, 'R']\n",
        "\n",
        "    for i in range(0, len(df)):\n",
        "        plan_id = df.loc[i, 'id']\n",
        "        days_encoding = ast.literal_eval(df.loc[i, 'BLK'])\n",
        "        reward = df.loc[i, 'R']\n",
        "        plan_list.append(Plan(plan_id, days_encoding, reward))\n",
        "\n",
        "    # Pilot이랑 Plan을 생성자로 전달해서 Scheduler 생성\n",
        "    return Scheduler(pilot_list, plan_list)\n",
        "\n",
        "\n",
        "class SchedulingEnvironment(Env):\n",
        "    def __init__(self):\n",
        "        self.scheduler = create_new_scheduler()\n",
        "        self.action_space = Discrete(len(self.scheduler.get_pilots()))\n",
        "        self.observation_space = spaces.Box(low= 0,high =1,\n",
        "                                            shape=(21, 30), dtype=int)\n",
        "        self.state = self.get_observation_data()\n",
        "        \n",
        "\n",
        "    def step(self, action):\n",
        "        result = self.scheduler.do_next_deploy(action)\n",
        "\n",
        "        if result:\n",
        "            reward = 1\n",
        "        else:\n",
        "            reward = -100\n",
        "\n",
        "        next_plan = self.scheduler.get_next_plan()\n",
        "\n",
        "        if next_plan is None:\n",
        "            done = True\n",
        "        else:\n",
        "            done = False\n",
        "\n",
        "        if result is None:\n",
        "            done = True\n",
        "\n",
        "        info = {}\n",
        "\n",
        "        self.state = self.get_observation_data()\n",
        "\n",
        "        return self.state, reward, done, info\n",
        "\n",
        "    def render(self):\n",
        "        pass\n",
        "\n",
        "    def reset(self):\n",
        "        self.scheduler = create_new_scheduler()\n",
        "        self.state = self.get_observation_data()\n",
        "        return self.state\n",
        "\n",
        "    def get_observation_data(self):\n",
        "        result = np.empty((0,30), int)\n",
        "        pilots = self.scheduler.get_pilots()\n",
        "        for pilot in pilots:\n",
        "          schedule = pilot.get_schedule_map()\n",
        "          result = np.append(result, np.array([schedule]), axis=0)\n",
        "\n",
        "        current_plan = self.scheduler.get_next_plan()\n",
        "        days_encoding = current_plan.get_days_encoding()\n",
        "\n",
        "        result = np.append(result, np.array([days_encoding]), axis=0)\n",
        "        return result\n",
        "\n"
      ],
      "metadata": {
        "id": "WdM5wXHWfTIn"
      },
      "execution_count": 8,
      "outputs": []
    },
    {
      "cell_type": "code",
      "source": [
        "\n",
        "def test_episode():\n",
        "    env = SchedulingEnvironment()\n",
        "    episode = 10\n",
        "    for episode in range(1, episode + 1):\n",
        "        state = env.reset()\n",
        "        done = False\n",
        "        score = 0\n",
        "        while not done:\n",
        "            env.render()\n",
        "            action = random.randint(0, 19)\n",
        "            n_state, reward, done, info = env.step(action)\n",
        "            score += reward\n",
        "        print('Episode:{} Score:{}'.format(episode, score))\n",
        "\n"
      ],
      "metadata": {
        "id": "Uowk2qtqfZFJ"
      },
      "execution_count": 9,
      "outputs": []
    },
    {
      "cell_type": "code",
      "source": [
        "test_episode()"
      ],
      "metadata": {
        "colab": {
          "base_uri": "https://localhost:8080/"
        },
        "id": "853AoZSQf_Be",
        "outputId": "dd3d7634-fa69-4f4f-85d4-1470a9cec1e3"
      },
      "execution_count": 10,
      "outputs": [
        {
          "output_type": "stream",
          "name": "stdout",
          "text": [
            "Episode:1 Score:-86\n",
            "Episode:2 Score:-88\n",
            "Episode:3 Score:-90\n",
            "Episode:4 Score:-92\n",
            "Episode:5 Score:-88\n",
            "Episode:6 Score:-85\n",
            "Episode:7 Score:-69\n",
            "Episode:8 Score:-83\n",
            "Episode:9 Score:-65\n",
            "Episode:10 Score:-93\n"
          ]
        }
      ]
    },
    {
      "cell_type": "code",
      "source": [
        "env = SchedulingEnvironment()\n",
        "states = env.observation_space.shape\n",
        "actions = env.action_space.n\n"
      ],
      "metadata": {
        "id": "o9HL2vF0g_QV"
      },
      "execution_count": 11,
      "outputs": []
    },
    {
      "cell_type": "code",
      "source": [
        " obs_shape = env.observation_space.shape\n",
        " print(obs_shape)"
      ],
      "metadata": {
        "colab": {
          "base_uri": "https://localhost:8080/"
        },
        "id": "i2VcVjteMknq",
        "outputId": "769c2855-92c4-474c-9b5d-49f57c32a7ba"
      },
      "execution_count": 12,
      "outputs": [
        {
          "output_type": "stream",
          "name": "stdout",
          "text": [
            "(21, 30)\n"
          ]
        }
      ]
    },
    {
      "cell_type": "code",
      "source": [
        "from tensorflow.keras.models import Sequential\n",
        "from tensorflow.keras.layers import Dense, Flatten\n",
        "from tensorflow.keras.optimizers import Adam\n"
      ],
      "metadata": {
        "colab": {
          "base_uri": "https://localhost:8080/"
        },
        "id": "uagT0NODgUr-",
        "outputId": "bd5ee7af-abec-49f0-c6c8-350e0fc296a8"
      },
      "execution_count": 13,
      "outputs": [
        {
          "output_type": "stream",
          "name": "stderr",
          "text": [
            "/usr/local/lib/python3.8/dist-packages/tensorflow/python/data/ops/iterator_ops.py:546: DeprecationWarning: Using or importing the ABCs from 'collections' instead of from 'collections.abc' is deprecated since Python 3.3, and in 3.10 it will stop working\n",
            "  class IteratorBase(collections.Iterator, trackable.Trackable,\n",
            "/usr/local/lib/python3.8/dist-packages/tensorflow/python/data/ops/dataset_ops.py:106: DeprecationWarning: Using or importing the ABCs from 'collections' instead of from 'collections.abc' is deprecated since Python 3.3, and in 3.10 it will stop working\n",
            "  class DatasetV2(collections.Iterable, tracking_base.Trackable,\n"
          ]
        }
      ]
    },
    {
      "cell_type": "code",
      "source": [
        "#'Sequential' object has no attribute '_compile_time_distribution_strategy' 나면 model 지워주는거 필요\n",
        "#del model"
      ],
      "metadata": {
        "id": "m5xbgt3lKLB3"
      },
      "execution_count": 19,
      "outputs": []
    },
    {
      "cell_type": "code",
      "source": [
        "#'Sequential' object has no attribute '_compile_time_distribution_strategy' 나면 위에서 del model하고 다시 실행할 것\n",
        "model = Sequential()\n",
        "model.add(Flatten(input_shape=(1,) + env.observation_space.shape))\n",
        "model.add(Dense(24, activation='relu'))\n",
        "model.add(Dense(24, activation='relu'))\n",
        "model.add(Dense(actions, activation='linear'))\n",
        "\n",
        "model.compile(loss='mean_squared_error', optimizer='rmsprop', metrics=['accuracy'])\n",
        "\n",
        "model.summary()"
      ],
      "metadata": {
        "colab": {
          "base_uri": "https://localhost:8080/"
        },
        "id": "T6Ru511D9cl9",
        "outputId": "68fe8dbb-98ee-4779-81b0-7ccfd7f0ab5d"
      },
      "execution_count": 20,
      "outputs": [
        {
          "output_type": "stream",
          "name": "stdout",
          "text": [
            "Model: \"sequential_1\"\n",
            "_________________________________________________________________\n",
            "Layer (type)                 Output Shape              Param #   \n",
            "=================================================================\n",
            "flatten_1 (Flatten)          (None, 630)               0         \n",
            "_________________________________________________________________\n",
            "dense_4 (Dense)              (None, 24)                15144     \n",
            "_________________________________________________________________\n",
            "dense_5 (Dense)              (None, 24)                600       \n",
            "_________________________________________________________________\n",
            "dense_6 (Dense)              (None, 24)                600       \n",
            "_________________________________________________________________\n",
            "dense_7 (Dense)              (None, 20)                500       \n",
            "=================================================================\n",
            "Total params: 16,844\n",
            "Trainable params: 16,844\n",
            "Non-trainable params: 0\n",
            "_________________________________________________________________\n"
          ]
        },
        {
          "output_type": "stream",
          "name": "stderr",
          "text": [
            "/usr/local/lib/python3.8/dist-packages/tensorflow/python/keras/engine/training_utils.py:1446: DeprecationWarning: Using or importing the ABCs from 'collections' instead of from 'collections.abc' is deprecated since Python 3.3, and in 3.10 it will stop working\n",
            "  if isinstance(sample_weight_mode, collections.Mapping):\n"
          ]
        }
      ]
    },
    {
      "cell_type": "code",
      "source": [
        "\n",
        "from rl.agents import DQNAgent\n",
        "from rl.policy import BoltzmannQPolicy\n",
        "from rl.memory import SequentialMemory\n"
      ],
      "metadata": {
        "id": "NmUg8jvhnBx1"
      },
      "execution_count": 16,
      "outputs": []
    },
    {
      "cell_type": "code",
      "source": [
        "def build_agent(model, actions):\n",
        "    policy = BoltzmannQPolicy()\n",
        "    memory = SequentialMemory(limit=50000, window_length=1)\n",
        "    dqn = DQNAgent(model=model, memory=memory, policy=policy, \n",
        "                  nb_actions=actions, nb_steps_warmup=5, target_model_update=1e-2)\n",
        "    return dqn\n"
      ],
      "metadata": {
        "id": "QnAH5VSI9y5I"
      },
      "execution_count": 21,
      "outputs": []
    },
    {
      "cell_type": "code",
      "source": [
        "#'Sequential' object has no attribute '_compile_time_distribution_strategy' 에러 날 경우 del model 실행 후\n",
        "# model 부터 다시하면 됨\n",
        "\n",
        "dqn = build_agent(model, actions)\n",
        "dqn.compile(Adam(lr=1e-3), metrics=['mae'])\n",
        "dqn.fit(env, nb_steps=100000, visualize=False, verbose=1)"
      ],
      "metadata": {
        "colab": {
          "base_uri": "https://localhost:8080/"
        },
        "id": "rMTy0Dc49hG4",
        "outputId": "aa6dca19-f02c-4fa3-ac01-2902d4e28a03"
      },
      "execution_count": 22,
      "outputs": [
        {
          "output_type": "stream",
          "name": "stderr",
          "text": [
            "WARNING:tensorflow:From /usr/local/lib/python3.8/dist-packages/tensorflow/python/keras/engine/training_v1.py:2070: Model.state_updates (from tensorflow.python.keras.engine.training) is deprecated and will be removed in a future version.\n",
            "Instructions for updating:\n",
            "This property should not be used in TensorFlow 2.0, as updates are applied automatically.\n"
          ]
        },
        {
          "output_type": "stream",
          "name": "stdout",
          "text": [
            "Training for 100000 steps ...\n",
            "Interval 1 (0 steps performed)\n",
            "\r    1/10000 [..............................] - ETA: 9:05 - reward: 1.0000"
          ]
        },
        {
          "output_type": "stream",
          "name": "stderr",
          "text": [
            "/usr/local/lib/python3.8/dist-packages/rl/memory.py:37: UserWarning: Not enough entries to sample without replacement. Consider increasing your warm-up phase to avoid oversampling!\n",
            "  warnings.warn('Not enough entries to sample without replacement. Consider increasing your warm-up phase to avoid oversampling!')\n",
            "/usr/local/lib/python3.8/dist-packages/rl/memory.py:38: DeprecationWarning: This function is deprecated. Please call randint(1, 5 + 1) instead\n",
            "  batch_idxs = np.random.random_integers(low, high - 1, size=size)\n"
          ]
        },
        {
          "output_type": "stream",
          "name": "stdout",
          "text": [
            "   11/10000 [..............................] - ETA: 13:40 - reward: 1.0000"
          ]
        },
        {
          "output_type": "stream",
          "name": "stderr",
          "text": [
            "/usr/local/lib/python3.8/dist-packages/rl/memory.py:38: DeprecationWarning: This function is deprecated. Please call randint(1, 6 + 1) instead\n",
            "  batch_idxs = np.random.random_integers(low, high - 1, size=size)\n",
            "/usr/local/lib/python3.8/dist-packages/rl/memory.py:38: DeprecationWarning: This function is deprecated. Please call randint(1, 7 + 1) instead\n",
            "  batch_idxs = np.random.random_integers(low, high - 1, size=size)\n",
            "/usr/local/lib/python3.8/dist-packages/rl/memory.py:38: DeprecationWarning: This function is deprecated. Please call randint(1, 8 + 1) instead\n",
            "  batch_idxs = np.random.random_integers(low, high - 1, size=size)\n",
            "/usr/local/lib/python3.8/dist-packages/rl/memory.py:38: DeprecationWarning: This function is deprecated. Please call randint(1, 9 + 1) instead\n",
            "  batch_idxs = np.random.random_integers(low, high - 1, size=size)\n",
            "/usr/local/lib/python3.8/dist-packages/rl/memory.py:38: DeprecationWarning: This function is deprecated. Please call randint(1, 10 + 1) instead\n",
            "  batch_idxs = np.random.random_integers(low, high - 1, size=size)\n",
            "/usr/local/lib/python3.8/dist-packages/rl/memory.py:38: DeprecationWarning: This function is deprecated. Please call randint(1, 11 + 1) instead\n",
            "  batch_idxs = np.random.random_integers(low, high - 1, size=size)\n"
          ]
        },
        {
          "output_type": "stream",
          "name": "stdout",
          "text": [
            "   16/10000 [..............................] - ETA: 11:55 - reward: -5.3125"
          ]
        },
        {
          "output_type": "stream",
          "name": "stderr",
          "text": [
            "/usr/local/lib/python3.8/dist-packages/rl/memory.py:38: DeprecationWarning: This function is deprecated. Please call randint(1, 12 + 1) instead\n",
            "  batch_idxs = np.random.random_integers(low, high - 1, size=size)\n",
            "/usr/local/lib/python3.8/dist-packages/rl/memory.py:38: DeprecationWarning: This function is deprecated. Please call randint(1, 13 + 1) instead\n",
            "  batch_idxs = np.random.random_integers(low, high - 1, size=size)\n",
            "/usr/local/lib/python3.8/dist-packages/rl/memory.py:38: DeprecationWarning: This function is deprecated. Please call randint(1, 14 + 1) instead\n",
            "  batch_idxs = np.random.random_integers(low, high - 1, size=size)\n",
            "/usr/local/lib/python3.8/dist-packages/rl/memory.py:38: DeprecationWarning: This function is deprecated. Please call randint(1, 15 + 1) instead\n",
            "  batch_idxs = np.random.random_integers(low, high - 1, size=size)\n",
            "/usr/local/lib/python3.8/dist-packages/rl/memory.py:38: DeprecationWarning: This function is deprecated. Please call randint(1, 16 + 1) instead\n",
            "  batch_idxs = np.random.random_integers(low, high - 1, size=size)\n"
          ]
        },
        {
          "output_type": "stream",
          "name": "stdout",
          "text": [
            "   23/10000 [..............................] - ETA: 9:50 - reward: -3.3913 "
          ]
        },
        {
          "output_type": "stream",
          "name": "stderr",
          "text": [
            "/usr/local/lib/python3.8/dist-packages/rl/memory.py:38: DeprecationWarning: This function is deprecated. Please call randint(1, 17 + 1) instead\n",
            "  batch_idxs = np.random.random_integers(low, high - 1, size=size)\n",
            "/usr/local/lib/python3.8/dist-packages/rl/memory.py:38: DeprecationWarning: This function is deprecated. Please call randint(1, 18 + 1) instead\n",
            "  batch_idxs = np.random.random_integers(low, high - 1, size=size)\n",
            "/usr/local/lib/python3.8/dist-packages/rl/memory.py:38: DeprecationWarning: This function is deprecated. Please call randint(1, 19 + 1) instead\n",
            "  batch_idxs = np.random.random_integers(low, high - 1, size=size)\n",
            "/usr/local/lib/python3.8/dist-packages/rl/memory.py:38: DeprecationWarning: This function is deprecated. Please call randint(1, 20 + 1) instead\n",
            "  batch_idxs = np.random.random_integers(low, high - 1, size=size)\n",
            "/usr/local/lib/python3.8/dist-packages/rl/memory.py:38: DeprecationWarning: This function is deprecated. Please call randint(1, 21 + 1) instead\n",
            "  batch_idxs = np.random.random_integers(low, high - 1, size=size)\n",
            "/usr/local/lib/python3.8/dist-packages/rl/memory.py:38: DeprecationWarning: This function is deprecated. Please call randint(1, 22 + 1) instead\n",
            "  batch_idxs = np.random.random_integers(low, high - 1, size=size)\n",
            "/usr/local/lib/python3.8/dist-packages/rl/memory.py:38: DeprecationWarning: This function is deprecated. Please call randint(1, 23 + 1) instead\n",
            "  batch_idxs = np.random.random_integers(low, high - 1, size=size)\n"
          ]
        },
        {
          "output_type": "stream",
          "name": "stdout",
          "text": [
            "   30/10000 [..............................] - ETA: 8:38 - reward: -2.3667"
          ]
        },
        {
          "output_type": "stream",
          "name": "stderr",
          "text": [
            "/usr/local/lib/python3.8/dist-packages/rl/memory.py:38: DeprecationWarning: This function is deprecated. Please call randint(1, 24 + 1) instead\n",
            "  batch_idxs = np.random.random_integers(low, high - 1, size=size)\n",
            "/usr/local/lib/python3.8/dist-packages/rl/memory.py:38: DeprecationWarning: This function is deprecated. Please call randint(1, 25 + 1) instead\n",
            "  batch_idxs = np.random.random_integers(low, high - 1, size=size)\n",
            "/usr/local/lib/python3.8/dist-packages/rl/memory.py:38: DeprecationWarning: This function is deprecated. Please call randint(1, 26 + 1) instead\n",
            "  batch_idxs = np.random.random_integers(low, high - 1, size=size)\n",
            "/usr/local/lib/python3.8/dist-packages/rl/memory.py:38: DeprecationWarning: This function is deprecated. Please call randint(1, 27 + 1) instead\n",
            "  batch_idxs = np.random.random_integers(low, high - 1, size=size)\n",
            "/usr/local/lib/python3.8/dist-packages/rl/memory.py:38: DeprecationWarning: This function is deprecated. Please call randint(1, 28 + 1) instead\n",
            "  batch_idxs = np.random.random_integers(low, high - 1, size=size)\n",
            "/usr/local/lib/python3.8/dist-packages/rl/memory.py:38: DeprecationWarning: This function is deprecated. Please call randint(1, 29 + 1) instead\n",
            "  batch_idxs = np.random.random_integers(low, high - 1, size=size)\n",
            "/usr/local/lib/python3.8/dist-packages/rl/memory.py:38: DeprecationWarning: This function is deprecated. Please call randint(1, 30 + 1) instead\n",
            "  batch_idxs = np.random.random_integers(low, high - 1, size=size)\n"
          ]
        },
        {
          "output_type": "stream",
          "name": "stdout",
          "text": [
            "   36/10000 [..............................] - ETA: 8:15 - reward: -1.8056"
          ]
        },
        {
          "output_type": "stream",
          "name": "stderr",
          "text": [
            "/usr/local/lib/python3.8/dist-packages/rl/memory.py:38: DeprecationWarning: This function is deprecated. Please call randint(1, 31 + 1) instead\n",
            "  batch_idxs = np.random.random_integers(low, high - 1, size=size)\n"
          ]
        },
        {
          "output_type": "stream",
          "name": "stdout",
          "text": [
            "10000/10000 [==============================] - 134s 13ms/step - reward: -5.1610\n",
            "610 episodes - episode_reward: -84.634 [-99.000, -50.000] - loss: 2178613.616 - mae: 2651.217 - mean_q: 3306.118\n",
            "\n",
            "Interval 2 (10000 steps performed)\n",
            "10000/10000 [==============================] - 130s 13ms/step - reward: -3.6157\n",
            "457 episodes - episode_reward: -79.112 [-99.000, -38.000] - loss: 778372864.000 - mae: 78566.398 - mean_q: 91942.078\n",
            "\n",
            "Interval 3 (20000 steps performed)\n",
            "10000/10000 [==============================] - 129s 13ms/step - reward: -3.6763\n",
            "463 episodes - episode_reward: -79.382 [-99.000, -40.000] - loss: 10372251648.000 - mae: 301640.156 - mean_q: 344388.000\n",
            "\n",
            "Interval 4 (30000 steps performed)\n",
            "10000/10000 [==============================] - 137s 14ms/step - reward: -3.9288\n",
            "488 episodes - episode_reward: -80.527 [-99.000, -51.000] - loss: 70505734144.000 - mae: 529807.125 - mean_q: 604381.438\n",
            "\n",
            "Interval 5 (40000 steps performed)\n",
            "10000/10000 [==============================] - 145s 15ms/step - reward: -5.8983\n",
            "683 episodes - episode_reward: -86.341 [-99.000, -34.000] - loss: 286486986752.000 - mae: 722470.562 - mean_q: 811376.000\n",
            "\n",
            "Interval 6 (50000 steps performed)\n",
            "10000/10000 [==============================] - 160s 16ms/step - reward: -8.4940\n",
            "940 episodes - episode_reward: -90.361 [-99.000, -64.000] - loss: 322103803904.000 - mae: 495284.688 - mean_q: 547188.688\n",
            "\n",
            "Interval 7 (60000 steps performed)\n",
            "10000/10000 [==============================] - 179s 18ms/step - reward: -13.7965\n",
            "1465 episodes - episode_reward: -94.181 [-99.000, -73.000] - loss: 59951181824.000 - mae: 84258.641 - mean_q: 91391.281\n",
            "\n",
            "Interval 8 (70000 steps performed)\n",
            "10000/10000 [==============================] - 186s 19ms/step - reward: -14.7459\n",
            "1559 episodes - episode_reward: -94.581 [-99.000, -80.000] - loss: 3262024192.000 - mae: 5847.185 - mean_q: 6837.166\n",
            "\n",
            "Interval 9 (80000 steps performed)\n",
            "10000/10000 [==============================] - 187s 19ms/step - reward: -15.9983\n",
            "1683 episodes - episode_reward: -95.056 [-99.000, -81.000] - loss: 295053440.000 - mae: 1061.109 - mean_q: 1309.139\n",
            "\n",
            "Interval 10 (90000 steps performed)\n",
            "10000/10000 [==============================] - 187s 19ms/step - reward: -16.6144\n",
            "done, took 1574.354 seconds\n"
          ]
        },
        {
          "output_type": "execute_result",
          "data": {
            "text/plain": [
              "<tensorflow.python.keras.callbacks.History at 0x7f05085657c0>"
            ]
          },
          "metadata": {},
          "execution_count": 22
        }
      ]
    },
    {
      "cell_type": "code",
      "source": [],
      "metadata": {
        "id": "CrhNdzfYiQJ0"
      },
      "execution_count": null,
      "outputs": []
    }
  ]
}